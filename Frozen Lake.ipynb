{
 "cells": [
  {
   "cell_type": "markdown",
   "id": "638de724",
   "metadata": {},
   "source": [
    "## Step 1: Install + Import Necessary Libraries"
   ]
  },
  {
   "cell_type": "code",
   "execution_count": 1,
   "id": "e247444f",
   "metadata": {},
   "outputs": [
    {
     "name": "stdout",
     "output_type": "stream",
     "text": [
      "Collecting gym==0.17.3\n",
      "  Downloading gym-0.17.3.tar.gz (1.6 MB)\n",
      "     ---------------------------------------- 1.6/1.6 MB 6.2 MB/s eta 0:00:00\n",
      "  Preparing metadata (setup.py): started\n",
      "  Preparing metadata (setup.py): finished with status 'done'\n",
      "Requirement already satisfied: scipy in c:\\users\\xavim\\anaconda3\\lib\\site-packages (from gym==0.17.3) (1.10.0)\n",
      "Requirement already satisfied: numpy>=1.10.4 in c:\\users\\xavim\\anaconda3\\lib\\site-packages (from gym==0.17.3) (1.23.5)\n",
      "Collecting pyglet<=1.5.0,>=1.4.0\n",
      "  Downloading pyglet-1.5.0-py2.py3-none-any.whl (1.0 MB)\n",
      "     ---------------------------------------- 1.0/1.0 MB 4.3 MB/s eta 0:00:00\n",
      "Collecting cloudpickle<1.7.0,>=1.2.0\n",
      "  Downloading cloudpickle-1.6.0-py3-none-any.whl (23 kB)\n",
      "Requirement already satisfied: future in c:\\users\\xavim\\anaconda3\\lib\\site-packages (from pyglet<=1.5.0,>=1.4.0->gym==0.17.3) (0.18.3)\n",
      "Building wheels for collected packages: gym\n",
      "  Building wheel for gym (setup.py): started\n",
      "  Building wheel for gym (setup.py): finished with status 'done'\n",
      "  Created wheel for gym: filename=gym-0.17.3-py3-none-any.whl size=1654631 sha256=bca745c354b43fce6f70a00487a74946e26d3b9efc836eab8f92348c4491a9fa\n",
      "  Stored in directory: c:\\users\\xavim\\appdata\\local\\pip\\cache\\wheels\\cc\\e4\\97\\f9097746896a5a5595e1477b95603324bf6dde572a89e88bc0\n",
      "Successfully built gym\n",
      "Installing collected packages: pyglet, cloudpickle, gym\n",
      "  Attempting uninstall: cloudpickle\n",
      "    Found existing installation: cloudpickle 2.0.0\n",
      "    Uninstalling cloudpickle-2.0.0:\n",
      "      Successfully uninstalled cloudpickle-2.0.0\n",
      "Successfully installed cloudpickle-1.6.0 gym-0.17.3 pyglet-1.5.0\n"
     ]
    }
   ],
   "source": [
    "!pip install gym==0.17.3"
   ]
  },
  {
   "cell_type": "code",
   "execution_count": 2,
   "id": "84fca012",
   "metadata": {},
   "outputs": [],
   "source": [
    "import gym\n",
    "import numpy as np\n",
    "import random as rd\n",
    "from IPython.display import clear_output\n",
    "\n",
    "env = gym.make('FrozenLake-v0', desc=None, map_name=\"4x4\", is_slippery=False)"
   ]
  },
  {
   "cell_type": "markdown",
   "id": "4f4c825b",
   "metadata": {},
   "source": [
    "## Step 2: Display the 4x4 space and run the reward table"
   ]
  },
  {
   "cell_type": "code",
   "execution_count": 3,
   "id": "25484693",
   "metadata": {},
   "outputs": [
    {
     "name": "stdout",
     "output_type": "stream",
     "text": [
      "\n",
      "\u001b[41mS\u001b[0mFFF\n",
      "FHFH\n",
      "FFFH\n",
      "HFFG\n"
     ]
    }
   ],
   "source": [
    "env.reset()\n",
    "env.render()"
   ]
  },
  {
   "cell_type": "code",
   "execution_count": 4,
   "id": "c01aac70",
   "metadata": {},
   "outputs": [
    {
     "name": "stdout",
     "output_type": "stream",
     "text": [
      "Action Space Discrete(4)\n",
      "State Space Discrete(16)\n"
     ]
    }
   ],
   "source": [
    "print(\"Action Space {}\".format(env.action_space))\n",
    "print(\"State Space {}\".format(env.observation_space))"
   ]
  },
  {
   "cell_type": "code",
   "execution_count": 5,
   "id": "fce4e8bb",
   "metadata": {},
   "outputs": [
    {
     "data": {
      "text/plain": [
       "{0: {0: [(1.0, 0, 0.0, False)],\n",
       "  1: [(1.0, 4, 0.0, False)],\n",
       "  2: [(1.0, 1, 0.0, False)],\n",
       "  3: [(1.0, 0, 0.0, False)]},\n",
       " 1: {0: [(1.0, 0, 0.0, False)],\n",
       "  1: [(1.0, 5, 0.0, True)],\n",
       "  2: [(1.0, 2, 0.0, False)],\n",
       "  3: [(1.0, 1, 0.0, False)]},\n",
       " 2: {0: [(1.0, 1, 0.0, False)],\n",
       "  1: [(1.0, 6, 0.0, False)],\n",
       "  2: [(1.0, 3, 0.0, False)],\n",
       "  3: [(1.0, 2, 0.0, False)]},\n",
       " 3: {0: [(1.0, 2, 0.0, False)],\n",
       "  1: [(1.0, 7, 0.0, True)],\n",
       "  2: [(1.0, 3, 0.0, False)],\n",
       "  3: [(1.0, 3, 0.0, False)]},\n",
       " 4: {0: [(1.0, 4, 0.0, False)],\n",
       "  1: [(1.0, 8, 0.0, False)],\n",
       "  2: [(1.0, 5, 0.0, True)],\n",
       "  3: [(1.0, 0, 0.0, False)]},\n",
       " 5: {0: [(1.0, 5, 0, True)],\n",
       "  1: [(1.0, 5, 0, True)],\n",
       "  2: [(1.0, 5, 0, True)],\n",
       "  3: [(1.0, 5, 0, True)]},\n",
       " 6: {0: [(1.0, 5, 0.0, True)],\n",
       "  1: [(1.0, 10, 0.0, False)],\n",
       "  2: [(1.0, 7, 0.0, True)],\n",
       "  3: [(1.0, 2, 0.0, False)]},\n",
       " 7: {0: [(1.0, 7, 0, True)],\n",
       "  1: [(1.0, 7, 0, True)],\n",
       "  2: [(1.0, 7, 0, True)],\n",
       "  3: [(1.0, 7, 0, True)]},\n",
       " 8: {0: [(1.0, 8, 0.0, False)],\n",
       "  1: [(1.0, 12, 0.0, True)],\n",
       "  2: [(1.0, 9, 0.0, False)],\n",
       "  3: [(1.0, 4, 0.0, False)]},\n",
       " 9: {0: [(1.0, 8, 0.0, False)],\n",
       "  1: [(1.0, 13, 0.0, False)],\n",
       "  2: [(1.0, 10, 0.0, False)],\n",
       "  3: [(1.0, 5, 0.0, True)]},\n",
       " 10: {0: [(1.0, 9, 0.0, False)],\n",
       "  1: [(1.0, 14, 0.0, False)],\n",
       "  2: [(1.0, 11, 0.0, True)],\n",
       "  3: [(1.0, 6, 0.0, False)]},\n",
       " 11: {0: [(1.0, 11, 0, True)],\n",
       "  1: [(1.0, 11, 0, True)],\n",
       "  2: [(1.0, 11, 0, True)],\n",
       "  3: [(1.0, 11, 0, True)]},\n",
       " 12: {0: [(1.0, 12, 0, True)],\n",
       "  1: [(1.0, 12, 0, True)],\n",
       "  2: [(1.0, 12, 0, True)],\n",
       "  3: [(1.0, 12, 0, True)]},\n",
       " 13: {0: [(1.0, 12, 0.0, True)],\n",
       "  1: [(1.0, 13, 0.0, False)],\n",
       "  2: [(1.0, 14, 0.0, False)],\n",
       "  3: [(1.0, 9, 0.0, False)]},\n",
       " 14: {0: [(1.0, 13, 0.0, False)],\n",
       "  1: [(1.0, 14, 0.0, False)],\n",
       "  2: [(1.0, 15, 1.0, True)],\n",
       "  3: [(1.0, 10, 0.0, False)]},\n",
       " 15: {0: [(1.0, 15, 0, True)],\n",
       "  1: [(1.0, 15, 0, True)],\n",
       "  2: [(1.0, 15, 0, True)],\n",
       "  3: [(1.0, 15, 0, True)]}}"
      ]
     },
     "execution_count": 5,
     "metadata": {},
     "output_type": "execute_result"
    }
   ],
   "source": [
    "# Reward Table\n",
    "\n",
    "env.P"
   ]
  },
  {
   "cell_type": "markdown",
   "id": "fe7c3d56",
   "metadata": {},
   "source": [
    "## Step 3: Define the starting position, which will be from the same place"
   ]
  },
  {
   "cell_type": "code",
   "execution_count": 6,
   "id": "e52b8ae9",
   "metadata": {},
   "outputs": [
    {
     "name": "stdout",
     "output_type": "stream",
     "text": [
      "State: 0\n"
     ]
    }
   ],
   "source": [
    "state = env.s\n",
    "print(\"State:\", state) # In this case, we'll start always from the position zero"
   ]
  },
  {
   "cell_type": "code",
   "execution_count": 7,
   "id": "aeca7d90",
   "metadata": {},
   "outputs": [
    {
     "data": {
      "text/plain": [
       "{0: [(1.0, 0, 0.0, False)],\n",
       " 1: [(1.0, 4, 0.0, False)],\n",
       " 2: [(1.0, 1, 0.0, False)],\n",
       " 3: [(1.0, 0, 0.0, False)]}"
      ]
     },
     "execution_count": 7,
     "metadata": {},
     "output_type": "execute_result"
    }
   ],
   "source": [
    "# Movements from the start position\n",
    "\n",
    "env.P[0]"
   ]
  },
  {
   "cell_type": "markdown",
   "id": "f4e8e4da",
   "metadata": {},
   "source": [
    "### Action Space:\n",
    "\n",
    "\n",
    "\n",
    "*   0: Left\n",
    "*   1: Down\n",
    "*   2: Right\n",
    "*   3: Up"
   ]
  },
  {
   "cell_type": "markdown",
   "id": "08777262",
   "metadata": {},
   "source": [
    "### Rewards:\n",
    "\n",
    "*   Reach goal(G): +1\n",
    "*   Reach hole(H): 0\n",
    "*   Reach frozen(F): 0"
   ]
  },
  {
   "cell_type": "markdown",
   "id": "b2ac478d",
   "metadata": {},
   "source": [
    "## Step 4: Define Q table"
   ]
  },
  {
   "cell_type": "code",
   "execution_count": 9,
   "id": "4ae04b72",
   "metadata": {},
   "outputs": [],
   "source": [
    "q_table = np.zeros([env.observation_space.n, env.action_space.n])"
   ]
  },
  {
   "cell_type": "code",
   "execution_count": 10,
   "id": "16675d77",
   "metadata": {},
   "outputs": [
    {
     "data": {
      "text/plain": [
       "array([0., 0., 0., 0.])"
      ]
     },
     "execution_count": 10,
     "metadata": {},
     "output_type": "execute_result"
    }
   ],
   "source": [
    "q_table[0]"
   ]
  },
  {
   "cell_type": "markdown",
   "id": "da11b4ab",
   "metadata": {},
   "source": [
    "## Step 5: Define Greedy Policy"
   ]
  },
  {
   "cell_type": "code",
   "execution_count": 11,
   "id": "1427ca9f",
   "metadata": {},
   "outputs": [],
   "source": [
    "def greedy(epsilon,q_table,state,env):\n",
    "    if rd.random() < epsilon:\n",
    "        action=env.action_space.sample() #explorar\n",
    "    else:\n",
    "        action=np.argmax(q_table[state]) #explotar\n",
    "    return action"
   ]
  },
  {
   "cell_type": "markdown",
   "id": "e69aab2a",
   "metadata": {},
   "source": [
    "## Step 6: Train and execute"
   ]
  },
  {
   "cell_type": "code",
   "execution_count": 12,
   "id": "f890e921",
   "metadata": {},
   "outputs": [
    {
     "name": "stdout",
     "output_type": "stream",
     "text": [
      "Episode: 1000\n",
      "Training finished.\n",
      "\n"
     ]
    }
   ],
   "source": [
    "# Define the Hyperparameters\n",
    "\n",
    "alpha = 0.7 # learning rate\n",
    "gamma = 0.95 # discount rate\n",
    "epsilon = 1.0 # greedy policy\n",
    "\n",
    "# We generate the empty lists to group the results\n",
    "all_timestep = []\n",
    "all_penalties = []\n",
    "\n",
    "# We define the number of episodes we will carry out\n",
    "episodes = 1001\n",
    "\n",
    "for i in range(episodes):\n",
    "    state = env.reset()\n",
    "\n",
    "    timestep, penalties, reward = 0, 0, 0\n",
    "    done = False\n",
    "\n",
    "    while not done:\n",
    "        action = greedy(epsilon,q_table,state,env) # apply greedy policy\n",
    "\n",
    "        next_state, reward, done, info = env.step(action) # we take the chosen action\n",
    "\n",
    "        old_value = q_table[state, action] # in the Q-table, we take the Q-value of the chosen action for the current state\n",
    "        next_max = np.max(q_table[next_state]) # in the Q-table, we take the maximum between the Q values for the new state\n",
    "\n",
    "        new_value = (1 - alpha) * old_value + alpha * (reward + gamma * next_max) # update the Q-value\n",
    "        q_table[state, action] = new_value\n",
    "\n",
    "        if reward == 0:\n",
    "            penalties += 1\n",
    "\n",
    "        state = next_state\n",
    "        timestep += 1\n",
    "\n",
    "    if i % 100 == 0:\n",
    "        clear_output(wait=True)\n",
    "        print(f\"Episode: {i}\")\n",
    "\n",
    "print(\"Training finished.\\n\")"
   ]
  },
  {
   "cell_type": "code",
   "execution_count": 13,
   "id": "dd074d60",
   "metadata": {},
   "outputs": [
    {
     "name": "stdout",
     "output_type": "stream",
     "text": [
      "  (Down)\n",
      "SFFF\n",
      "F\u001b[41mH\u001b[0mFH\n",
      "FFFH\n",
      "HFFG\n"
     ]
    }
   ],
   "source": [
    "env.s\n",
    "env.render()"
   ]
  },
  {
   "cell_type": "code",
   "execution_count": 14,
   "id": "bfa63b8a",
   "metadata": {},
   "outputs": [
    {
     "data": {
      "text/plain": [
       "array([[0.73509189, 0.77378094, 0.77378094, 0.73509189],\n",
       "       [0.73509189, 0.        , 0.81450625, 0.77378094],\n",
       "       [0.77378094, 0.857375  , 0.77378094, 0.81450625],\n",
       "       [0.81450625, 0.        , 0.77378094, 0.77378094],\n",
       "       [0.77378094, 0.81450625, 0.        , 0.73509189],\n",
       "       [0.        , 0.        , 0.        , 0.        ],\n",
       "       [0.        , 0.9025    , 0.        , 0.81450625],\n",
       "       [0.        , 0.        , 0.        , 0.        ],\n",
       "       [0.81450625, 0.        , 0.857375  , 0.77378094],\n",
       "       [0.81450621, 0.9024329 , 0.9025    , 0.        ],\n",
       "       [0.85737498, 0.95      , 0.        , 0.85737463],\n",
       "       [0.        , 0.        , 0.        , 0.        ],\n",
       "       [0.        , 0.        , 0.        , 0.        ],\n",
       "       [0.        , 0.89507615, 0.94992937, 0.85736662],\n",
       "       [0.90135128, 0.94999997, 1.        , 0.90249836],\n",
       "       [0.        , 0.        , 0.        , 0.        ]])"
      ]
     },
     "execution_count": 14,
     "metadata": {},
     "output_type": "execute_result"
    }
   ],
   "source": [
    "q_table # Display the values of the Q-table"
   ]
  },
  {
   "cell_type": "code",
   "execution_count": 15,
   "id": "c8c0534a",
   "metadata": {},
   "outputs": [
    {
     "name": "stdout",
     "output_type": "stream",
     "text": [
      "  (Right)\n",
      "SFFF\n",
      "FHFH\n",
      "FFFH\n",
      "HFF\u001b[41mG\u001b[0m\n",
      "\n",
      "Recompensa actual: \u001b[32m1.0\u001b[0m\n",
      "Recompensa total: \u001b[32m1.0\u001b[0m\n",
      "\n",
      "Estado actual 15\n",
      "Timesteps taken: 6\n",
      "Penalties incurred: 5\n"
     ]
    }
   ],
   "source": [
    "class bcolors:\n",
    "    RED= '\\u001b[31m'\n",
    "    GREEN= '\\u001b[32m'\n",
    "    RESET= '\\u001b[0m'\n",
    "\n",
    "env.s = 0\n",
    "state = env.reset()\n",
    "done = False\n",
    "\n",
    "timestep, penalties, reward = 0, 0, 0\n",
    "total_reward = 0\n",
    "\n",
    "while not done:\n",
    "\n",
    "  action = np.argmax(q_table[state])\n",
    "  state, reward, done, info = env.step(action) # with \"step\" we carry out the chosen action\n",
    "\n",
    "  if reward == 0:\n",
    "      penalties += 1 # we add a penalty if the taxi tries to drop off the passenger when he/she is not yet on board\n",
    "\n",
    "  timestep += 1\n",
    "  total_reward += reward\n",
    "\n",
    "  # Print each step\n",
    "  clear_output(wait=True)\n",
    "  env.render()\n",
    "  print(\"\")\n",
    "  if reward == 0:\n",
    "    print(f\"Recompensa actual: {bcolors.RED}{reward}{bcolors.RESET}\")\n",
    "  else:\n",
    "    print(f\"Recompensa actual: {bcolors.GREEN}{reward}{bcolors.RESET}\")\n",
    "  if reward == 0:\n",
    "    print(f\"Recompensa total: {bcolors.RED}{total_reward}{bcolors.RESET}\")\n",
    "  else:\n",
    "    print(f\"Recompensa total: {bcolors.GREEN}{total_reward}{bcolors.RESET}\")\n",
    "  print(\"\")\n",
    "  print('Estado actual', state)\n",
    "\n",
    "print(\"Timesteps taken: {}\".format(timestep))\n",
    "print(\"Penalties incurred: {}\".format(penalties))"
   ]
  },
  {
   "cell_type": "code",
   "execution_count": null,
   "id": "c817f724",
   "metadata": {},
   "outputs": [],
   "source": []
  }
 ],
 "metadata": {
  "kernelspec": {
   "display_name": "Python 3 (ipykernel)",
   "language": "python",
   "name": "python3"
  },
  "language_info": {
   "codemirror_mode": {
    "name": "ipython",
    "version": 3
   },
   "file_extension": ".py",
   "mimetype": "text/x-python",
   "name": "python",
   "nbconvert_exporter": "python",
   "pygments_lexer": "ipython3",
   "version": "3.10.9"
  }
 },
 "nbformat": 4,
 "nbformat_minor": 5
}
